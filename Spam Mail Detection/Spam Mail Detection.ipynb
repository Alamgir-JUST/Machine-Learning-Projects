{
 "cells": [
  {
   "cell_type": "markdown",
   "id": "2eed93a0",
   "metadata": {},
   "source": [
    "# Spam Mail Detection Project using Machine Learning Algorithms"
   ]
  },
  {
   "cell_type": "code",
   "execution_count": 79,
   "id": "6ea2765f",
   "metadata": {},
   "outputs": [],
   "source": [
    "#Imorting Libraries\n",
    "import pandas as pd\n",
    "import numpy as np\n",
    "import matplotlib.pyplot as plt\n",
    "import seaborn as sns"
   ]
  },
  {
   "cell_type": "code",
   "execution_count": 80,
   "id": "f78deb1f",
   "metadata": {},
   "outputs": [],
   "source": [
    "#Importing DataSet\n",
    "df = pd.read_csv('spam mail detection.csv')"
   ]
  },
  {
   "cell_type": "code",
   "execution_count": 81,
   "id": "00d3f611",
   "metadata": {},
   "outputs": [
    {
     "data": {
      "text/plain": [
       "(5732, 110)"
      ]
     },
     "execution_count": 81,
     "metadata": {},
     "output_type": "execute_result"
    }
   ],
   "source": [
    "df.shape"
   ]
  },
  {
   "cell_type": "code",
   "execution_count": 82,
   "id": "975c8829",
   "metadata": {},
   "outputs": [],
   "source": [
    "df = df.drop(df.iloc[:, 2:110], axis = 'columns') #Deleting all other columns without text and spam"
   ]
  },
  {
   "cell_type": "code",
   "execution_count": 83,
   "id": "344589ce",
   "metadata": {},
   "outputs": [
    {
     "data": {
      "text/html": [
       "<div>\n",
       "<style scoped>\n",
       "    .dataframe tbody tr th:only-of-type {\n",
       "        vertical-align: middle;\n",
       "    }\n",
       "\n",
       "    .dataframe tbody tr th {\n",
       "        vertical-align: top;\n",
       "    }\n",
       "\n",
       "    .dataframe thead th {\n",
       "        text-align: right;\n",
       "    }\n",
       "</style>\n",
       "<table border=\"1\" class=\"dataframe\">\n",
       "  <thead>\n",
       "    <tr style=\"text-align: right;\">\n",
       "      <th></th>\n",
       "      <th>text</th>\n",
       "      <th>spam</th>\n",
       "    </tr>\n",
       "  </thead>\n",
       "  <tbody>\n",
       "    <tr>\n",
       "      <th>0</th>\n",
       "      <td>Subject: naturally irresistible your corporate...</td>\n",
       "      <td>1</td>\n",
       "    </tr>\n",
       "    <tr>\n",
       "      <th>1</th>\n",
       "      <td>Subject: the stock trading gunslinger  fanny i...</td>\n",
       "      <td>1</td>\n",
       "    </tr>\n",
       "    <tr>\n",
       "      <th>2</th>\n",
       "      <td>Subject: unbelievable new homes made easy  im ...</td>\n",
       "      <td>1</td>\n",
       "    </tr>\n",
       "    <tr>\n",
       "      <th>3</th>\n",
       "      <td>Subject: 4 color printing special  request add...</td>\n",
       "      <td>1</td>\n",
       "    </tr>\n",
       "    <tr>\n",
       "      <th>4</th>\n",
       "      <td>Subject: do not have money , get software cds ...</td>\n",
       "      <td>1</td>\n",
       "    </tr>\n",
       "    <tr>\n",
       "      <th>...</th>\n",
       "      <td>...</td>\n",
       "      <td>...</td>\n",
       "    </tr>\n",
       "    <tr>\n",
       "      <th>5727</th>\n",
       "      <td>Subject: re : research and development charges...</td>\n",
       "      <td>0</td>\n",
       "    </tr>\n",
       "    <tr>\n",
       "      <th>5728</th>\n",
       "      <td>Subject: re : receipts from visit  jim ,  than...</td>\n",
       "      <td>0</td>\n",
       "    </tr>\n",
       "    <tr>\n",
       "      <th>5729</th>\n",
       "      <td>Subject: re : enron case study update  wow ! a...</td>\n",
       "      <td>0</td>\n",
       "    </tr>\n",
       "    <tr>\n",
       "      <th>5730</th>\n",
       "      <td>Subject: re : interest  david ,  please , call...</td>\n",
       "      <td>0</td>\n",
       "    </tr>\n",
       "    <tr>\n",
       "      <th>5731</th>\n",
       "      <td>Subject: news : aurora 5 . 2 update  aurora ve...</td>\n",
       "      <td>0</td>\n",
       "    </tr>\n",
       "  </tbody>\n",
       "</table>\n",
       "<p>5732 rows × 2 columns</p>\n",
       "</div>"
      ],
      "text/plain": [
       "                                                   text spam\n",
       "0     Subject: naturally irresistible your corporate...    1\n",
       "1     Subject: the stock trading gunslinger  fanny i...    1\n",
       "2     Subject: unbelievable new homes made easy  im ...    1\n",
       "3     Subject: 4 color printing special  request add...    1\n",
       "4     Subject: do not have money , get software cds ...    1\n",
       "...                                                 ...  ...\n",
       "5727  Subject: re : research and development charges...    0\n",
       "5728  Subject: re : receipts from visit  jim ,  than...    0\n",
       "5729  Subject: re : enron case study update  wow ! a...    0\n",
       "5730  Subject: re : interest  david ,  please , call...    0\n",
       "5731  Subject: news : aurora 5 . 2 update  aurora ve...    0\n",
       "\n",
       "[5732 rows x 2 columns]"
      ]
     },
     "execution_count": 83,
     "metadata": {},
     "output_type": "execute_result"
    }
   ],
   "source": [
    "df"
   ]
  },
  {
   "cell_type": "code",
   "execution_count": 84,
   "id": "3af39f6d",
   "metadata": {},
   "outputs": [],
   "source": [
    "df.drop_duplicates(inplace = True)"
   ]
  },
  {
   "cell_type": "code",
   "execution_count": 85,
   "id": "ae5a7b06",
   "metadata": {},
   "outputs": [
    {
     "data": {
      "text/plain": [
       "(5698, 2)"
      ]
     },
     "execution_count": 85,
     "metadata": {},
     "output_type": "execute_result"
    }
   ],
   "source": [
    "df.shape"
   ]
  },
  {
   "cell_type": "code",
   "execution_count": 86,
   "id": "380d71bd",
   "metadata": {},
   "outputs": [
    {
     "data": {
      "text/plain": [
       "0                                                                                               4326\n",
       "1                                                                                               1367\n",
       " its termination would not  have such a phenomenal impact on the power situation .  however        1\n",
       " mr suresh prabhu                                                                                  1\n",
       "Name: spam, dtype: int64"
      ]
     },
     "execution_count": 86,
     "metadata": {},
     "output_type": "execute_result"
    }
   ],
   "source": [
    "df['spam'].value_counts()"
   ]
  },
  {
   "cell_type": "code",
   "execution_count": 87,
   "id": "016f6e9c",
   "metadata": {},
   "outputs": [
    {
     "data": {
      "text/plain": [
       "text    1\n",
       "spam    3\n",
       "dtype: int64"
      ]
     },
     "execution_count": 87,
     "metadata": {},
     "output_type": "execute_result"
    }
   ],
   "source": [
    "df.isnull().sum()"
   ]
  },
  {
   "cell_type": "code",
   "execution_count": 88,
   "id": "5598a636",
   "metadata": {},
   "outputs": [],
   "source": [
    "df = df.dropna(how = 'any', axis = 0) #Delete Rows where Values = null"
   ]
  },
  {
   "cell_type": "code",
   "execution_count": 89,
   "id": "553524d1",
   "metadata": {},
   "outputs": [
    {
     "data": {
      "text/plain": [
       "text    0\n",
       "spam    0\n",
       "dtype: int64"
      ]
     },
     "execution_count": 89,
     "metadata": {},
     "output_type": "execute_result"
    }
   ],
   "source": [
    "df.isnull().sum()"
   ]
  },
  {
   "cell_type": "markdown",
   "id": "54d65e69",
   "metadata": {},
   "source": [
    "# Sperating x and y"
   ]
  },
  {
   "cell_type": "code",
   "execution_count": 90,
   "id": "e2fe646d",
   "metadata": {},
   "outputs": [],
   "source": [
    "x = df['text']"
   ]
  },
  {
   "cell_type": "code",
   "execution_count": 91,
   "id": "0d409ab6",
   "metadata": {},
   "outputs": [
    {
     "data": {
      "text/plain": [
       "0       Subject: naturally irresistible your corporate...\n",
       "1       Subject: the stock trading gunslinger  fanny i...\n",
       "2       Subject: unbelievable new homes made easy  im ...\n",
       "3       Subject: 4 color printing special  request add...\n",
       "4       Subject: do not have money , get software cds ...\n",
       "                              ...                        \n",
       "5727    Subject: re : research and development charges...\n",
       "5728    Subject: re : receipts from visit  jim ,  than...\n",
       "5729    Subject: re : enron case study update  wow ! a...\n",
       "5730    Subject: re : interest  david ,  please , call...\n",
       "5731    Subject: news : aurora 5 . 2 update  aurora ve...\n",
       "Name: text, Length: 5695, dtype: object"
      ]
     },
     "execution_count": 91,
     "metadata": {},
     "output_type": "execute_result"
    }
   ],
   "source": [
    "x"
   ]
  },
  {
   "cell_type": "code",
   "execution_count": 92,
   "id": "3217923b",
   "metadata": {},
   "outputs": [],
   "source": [
    "y = df['spam']"
   ]
  },
  {
   "cell_type": "markdown",
   "id": "835c65f0",
   "metadata": {},
   "source": [
    "# Data Preprocessing"
   ]
  },
  {
   "cell_type": "code",
   "execution_count": 93,
   "id": "91c723ac",
   "metadata": {},
   "outputs": [],
   "source": [
    "from sklearn.feature_extraction.text import CountVectorizer"
   ]
  },
  {
   "cell_type": "code",
   "execution_count": 94,
   "id": "dbd04de1",
   "metadata": {},
   "outputs": [],
   "source": [
    "cv = CountVectorizer()"
   ]
  },
  {
   "cell_type": "code",
   "execution_count": 95,
   "id": "7fb56733",
   "metadata": {},
   "outputs": [],
   "source": [
    "xc = cv.fit_transform(x)"
   ]
  },
  {
   "cell_type": "code",
   "execution_count": 97,
   "id": "fa29a1f7",
   "metadata": {},
   "outputs": [
    {
     "data": {
      "text/plain": [
       "array([[0, 0, 0, ..., 0, 0, 0],\n",
       "       [0, 0, 0, ..., 0, 0, 0],\n",
       "       [0, 0, 0, ..., 0, 0, 0],\n",
       "       ...,\n",
       "       [4, 0, 0, ..., 0, 0, 0],\n",
       "       [0, 0, 0, ..., 0, 0, 0],\n",
       "       [0, 0, 0, ..., 0, 0, 0]], dtype=int64)"
      ]
     },
     "execution_count": 97,
     "metadata": {},
     "output_type": "execute_result"
    }
   ],
   "source": [
    "xc.toarray()"
   ]
  },
  {
   "cell_type": "markdown",
   "id": "afa9fe40",
   "metadata": {},
   "source": [
    "# Train Test SPliting"
   ]
  },
  {
   "cell_type": "code",
   "execution_count": 98,
   "id": "70c1e1ab",
   "metadata": {},
   "outputs": [],
   "source": [
    "from sklearn.model_selection import train_test_split"
   ]
  },
  {
   "cell_type": "code",
   "execution_count": 99,
   "id": "1df6796c",
   "metadata": {},
   "outputs": [],
   "source": [
    "xtrain, xtest, ytrain, ytest = train_test_split(xc, y, test_size = .30, random_state = 1)"
   ]
  },
  {
   "cell_type": "markdown",
   "id": "43c0c543",
   "metadata": {},
   "source": [
    "# Model Developing using Multinomial Naive Bayes"
   ]
  },
  {
   "cell_type": "code",
   "execution_count": 100,
   "id": "42ca8142",
   "metadata": {},
   "outputs": [],
   "source": [
    "from sklearn.naive_bayes import MultinomialNB"
   ]
  },
  {
   "cell_type": "code",
   "execution_count": 101,
   "id": "78d5aaac",
   "metadata": {},
   "outputs": [],
   "source": [
    "mnb = MultinomialNB()"
   ]
  },
  {
   "cell_type": "code",
   "execution_count": 102,
   "id": "576a71d8",
   "metadata": {},
   "outputs": [
    {
     "data": {
      "text/plain": [
       "MultinomialNB()"
      ]
     },
     "execution_count": 102,
     "metadata": {},
     "output_type": "execute_result"
    }
   ],
   "source": [
    "mnb.fit(xtrain, ytrain)"
   ]
  },
  {
   "cell_type": "code",
   "execution_count": 106,
   "id": "70860f23",
   "metadata": {},
   "outputs": [],
   "source": [
    "pred = mnb.predict(xtest)"
   ]
  },
  {
   "cell_type": "code",
   "execution_count": 117,
   "id": "fa975a30",
   "metadata": {},
   "outputs": [
    {
     "data": {
      "text/plain": [
       "array(['0', '0', '0', ..., '0', '0', '1'], dtype='<U18')"
      ]
     },
     "execution_count": 117,
     "metadata": {},
     "output_type": "execute_result"
    }
   ],
   "source": [
    "pred"
   ]
  },
  {
   "cell_type": "code",
   "execution_count": 107,
   "id": "9e51c7ed",
   "metadata": {},
   "outputs": [],
   "source": [
    "sc = mnb.score(xtest, ytest)"
   ]
  },
  {
   "cell_type": "code",
   "execution_count": 108,
   "id": "00dac35e",
   "metadata": {},
   "outputs": [
    {
     "data": {
      "text/plain": [
       "0.9888823873610298"
      ]
     },
     "execution_count": 108,
     "metadata": {},
     "output_type": "execute_result"
    }
   ],
   "source": [
    "sc"
   ]
  },
  {
   "cell_type": "markdown",
   "id": "4ca4f2f4",
   "metadata": {},
   "source": [
    "# Decision Tree Classifier"
   ]
  },
  {
   "cell_type": "code",
   "execution_count": 118,
   "id": "9a3ce47c",
   "metadata": {},
   "outputs": [],
   "source": [
    "from sklearn.tree import DecisionTreeClassifier"
   ]
  },
  {
   "cell_type": "code",
   "execution_count": 119,
   "id": "d2884a2e",
   "metadata": {},
   "outputs": [],
   "source": [
    "dtc = DecisionTreeClassifier()"
   ]
  },
  {
   "cell_type": "code",
   "execution_count": 120,
   "id": "1cac835e",
   "metadata": {},
   "outputs": [
    {
     "data": {
      "text/plain": [
       "DecisionTreeClassifier()"
      ]
     },
     "execution_count": 120,
     "metadata": {},
     "output_type": "execute_result"
    }
   ],
   "source": [
    "dtc.fit(xtrain, ytrain)"
   ]
  },
  {
   "cell_type": "code",
   "execution_count": 121,
   "id": "d4a4cfa4",
   "metadata": {},
   "outputs": [
    {
     "data": {
      "text/plain": [
       "0.9602106495026331"
      ]
     },
     "execution_count": 121,
     "metadata": {},
     "output_type": "execute_result"
    }
   ],
   "source": [
    "dtc.score(xtest, ytest)"
   ]
  },
  {
   "cell_type": "markdown",
   "id": "d00d94c7",
   "metadata": {},
   "source": [
    "# Random Forest Classfier"
   ]
  },
  {
   "cell_type": "code",
   "execution_count": 122,
   "id": "80e0d6da",
   "metadata": {},
   "outputs": [],
   "source": [
    "from sklearn.ensemble import RandomForestClassifier"
   ]
  },
  {
   "cell_type": "code",
   "execution_count": 123,
   "id": "e8b863cd",
   "metadata": {},
   "outputs": [],
   "source": [
    "rfc = RandomForestClassifier()"
   ]
  },
  {
   "cell_type": "code",
   "execution_count": 124,
   "id": "0ee8c1f9",
   "metadata": {},
   "outputs": [
    {
     "data": {
      "text/plain": [
       "RandomForestClassifier()"
      ]
     },
     "execution_count": 124,
     "metadata": {},
     "output_type": "execute_result"
    }
   ],
   "source": [
    "rfc.fit(xtrain, ytrain)"
   ]
  },
  {
   "cell_type": "code",
   "execution_count": 125,
   "id": "5b555c09",
   "metadata": {},
   "outputs": [
    {
     "data": {
      "text/plain": [
       "0.9619660620245758"
      ]
     },
     "execution_count": 125,
     "metadata": {},
     "output_type": "execute_result"
    }
   ],
   "source": [
    "rfc.score(xtest, ytest)"
   ]
  },
  {
   "cell_type": "code",
   "execution_count": 126,
   "id": "3839105c",
   "metadata": {},
   "outputs": [],
   "source": [
    "from sklearn.svm import SVC"
   ]
  },
  {
   "cell_type": "code",
   "execution_count": 127,
   "id": "f967b09c",
   "metadata": {},
   "outputs": [],
   "source": [
    "svm = SVC()"
   ]
  },
  {
   "cell_type": "code",
   "execution_count": 128,
   "id": "1e6e10be",
   "metadata": {},
   "outputs": [
    {
     "data": {
      "text/plain": [
       "SVC()"
      ]
     },
     "execution_count": 128,
     "metadata": {},
     "output_type": "execute_result"
    }
   ],
   "source": [
    "svm.fit(xtrain, ytrain)"
   ]
  },
  {
   "cell_type": "code",
   "execution_count": 129,
   "id": "9de68b48",
   "metadata": {},
   "outputs": [
    {
     "data": {
      "text/plain": [
       "0.9485078993563487"
      ]
     },
     "execution_count": 129,
     "metadata": {},
     "output_type": "execute_result"
    }
   ],
   "source": [
    "svm.score(xtest, ytest)"
   ]
  },
  {
   "cell_type": "markdown",
   "id": "104a842f",
   "metadata": {},
   "source": [
    "# Gaussian Naive Bayes"
   ]
  },
  {
   "cell_type": "code",
   "execution_count": 130,
   "id": "f3e8e75d",
   "metadata": {},
   "outputs": [],
   "source": [
    "from sklearn.naive_bayes import GaussianNB"
   ]
  },
  {
   "cell_type": "code",
   "execution_count": 131,
   "id": "8fa0a5ed",
   "metadata": {},
   "outputs": [],
   "source": [
    "gnb = GaussianNB()"
   ]
  },
  {
   "cell_type": "code",
   "execution_count": 133,
   "id": "e1a7f912",
   "metadata": {},
   "outputs": [
    {
     "data": {
      "text/plain": [
       "GaussianNB()"
      ]
     },
     "execution_count": 133,
     "metadata": {},
     "output_type": "execute_result"
    }
   ],
   "source": [
    "gnb.fit(xtrain.toarray(), ytrain)"
   ]
  },
  {
   "cell_type": "code",
   "execution_count": 135,
   "id": "5c0333d9",
   "metadata": {},
   "outputs": [
    {
     "data": {
      "text/plain": [
       "0.9602106495026331"
      ]
     },
     "execution_count": 135,
     "metadata": {},
     "output_type": "execute_result"
    }
   ],
   "source": [
    "gnb.score(xtest.toarray(), ytest)"
   ]
  },
  {
   "cell_type": "markdown",
   "id": "28fdad78",
   "metadata": {},
   "source": [
    "# K-Nearest Neighbors Model"
   ]
  },
  {
   "cell_type": "code",
   "execution_count": 136,
   "id": "2a305979",
   "metadata": {},
   "outputs": [],
   "source": [
    "from sklearn.neighbors import KNeighborsClassifier"
   ]
  },
  {
   "cell_type": "code",
   "execution_count": 137,
   "id": "257ea11f",
   "metadata": {},
   "outputs": [],
   "source": [
    "knn = KNeighborsClassifier()"
   ]
  },
  {
   "cell_type": "code",
   "execution_count": 138,
   "id": "257fd571",
   "metadata": {},
   "outputs": [
    {
     "data": {
      "text/plain": [
       "KNeighborsClassifier()"
      ]
     },
     "execution_count": 138,
     "metadata": {},
     "output_type": "execute_result"
    }
   ],
   "source": [
    "knn.fit(xtrain, ytrain)"
   ]
  },
  {
   "cell_type": "code",
   "execution_count": 139,
   "id": "ffd0008e",
   "metadata": {},
   "outputs": [
    {
     "data": {
      "text/plain": [
       "0.9093036863662961"
      ]
     },
     "execution_count": 139,
     "metadata": {},
     "output_type": "execute_result"
    }
   ],
   "source": [
    "knn.score(xtest, ytest)"
   ]
  },
  {
   "cell_type": "markdown",
   "id": "91188aba",
   "metadata": {},
   "source": [
    "# Linear Discriminant Analysis"
   ]
  },
  {
   "cell_type": "code",
   "execution_count": 140,
   "id": "0f75ea5f",
   "metadata": {},
   "outputs": [],
   "source": [
    "from sklearn.discriminant_analysis import LinearDiscriminantAnalysis"
   ]
  },
  {
   "cell_type": "code",
   "execution_count": 141,
   "id": "1dc9c1b9",
   "metadata": {},
   "outputs": [],
   "source": [
    "lda = LinearDiscriminantAnalysis()"
   ]
  },
  {
   "cell_type": "code",
   "execution_count": 143,
   "id": "edf9e533",
   "metadata": {},
   "outputs": [
    {
     "data": {
      "text/plain": [
       "LinearDiscriminantAnalysis()"
      ]
     },
     "execution_count": 143,
     "metadata": {},
     "output_type": "execute_result"
    }
   ],
   "source": [
    "lda.fit(xtrain.toarray(), ytrain)"
   ]
  },
  {
   "cell_type": "code",
   "execution_count": 146,
   "id": "a6cc4364",
   "metadata": {},
   "outputs": [
    {
     "data": {
      "text/plain": [
       "0.898186073727326"
      ]
     },
     "execution_count": 146,
     "metadata": {},
     "output_type": "execute_result"
    }
   ],
   "source": [
    "lda.score(xtest.toarray(), ytest)"
   ]
  },
  {
   "cell_type": "markdown",
   "id": "5de7d12f",
   "metadata": {},
   "source": [
    "# Logistic Regression "
   ]
  },
  {
   "cell_type": "code",
   "execution_count": 147,
   "id": "1fd82e45",
   "metadata": {},
   "outputs": [],
   "source": [
    "from sklearn.linear_model import LogisticRegression"
   ]
  },
  {
   "cell_type": "code",
   "execution_count": 148,
   "id": "a9563135",
   "metadata": {},
   "outputs": [],
   "source": [
    "lr = LogisticRegression()"
   ]
  },
  {
   "cell_type": "code",
   "execution_count": 149,
   "id": "03a664b7",
   "metadata": {},
   "outputs": [
    {
     "name": "stderr",
     "output_type": "stream",
     "text": [
      "J:\\ML\\Anaconda\\lib\\site-packages\\sklearn\\linear_model\\_logistic.py:763: ConvergenceWarning: lbfgs failed to converge (status=1):\n",
      "STOP: TOTAL NO. of ITERATIONS REACHED LIMIT.\n",
      "\n",
      "Increase the number of iterations (max_iter) or scale the data as shown in:\n",
      "    https://scikit-learn.org/stable/modules/preprocessing.html\n",
      "Please also refer to the documentation for alternative solver options:\n",
      "    https://scikit-learn.org/stable/modules/linear_model.html#logistic-regression\n",
      "  n_iter_i = _check_optimize_result(\n"
     ]
    },
    {
     "data": {
      "text/plain": [
       "LogisticRegression()"
      ]
     },
     "execution_count": 149,
     "metadata": {},
     "output_type": "execute_result"
    }
   ],
   "source": [
    "lr.fit(xtrain, ytrain)"
   ]
  },
  {
   "cell_type": "code",
   "execution_count": 150,
   "id": "f2e88cde",
   "metadata": {},
   "outputs": [
    {
     "data": {
      "text/plain": [
       "0.9865418373317729"
      ]
     },
     "execution_count": 150,
     "metadata": {},
     "output_type": "execute_result"
    }
   ],
   "source": [
    "lr.score(xtest, ytest)"
   ]
  },
  {
   "cell_type": "code",
   "execution_count": null,
   "id": "d2724d21",
   "metadata": {},
   "outputs": [],
   "source": []
  }
 ],
 "metadata": {
  "kernelspec": {
   "display_name": "Python 3 (ipykernel)",
   "language": "python",
   "name": "python3"
  },
  "language_info": {
   "codemirror_mode": {
    "name": "ipython",
    "version": 3
   },
   "file_extension": ".py",
   "mimetype": "text/x-python",
   "name": "python",
   "nbconvert_exporter": "python",
   "pygments_lexer": "ipython3",
   "version": "3.9.7"
  }
 },
 "nbformat": 4,
 "nbformat_minor": 5
}
